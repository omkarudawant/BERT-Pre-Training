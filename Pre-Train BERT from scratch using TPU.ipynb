{
 "cells": [
  {
   "cell_type": "code",
   "execution_count": null,
   "metadata": {},
   "outputs": [],
   "source": [
    "import tokenizers\n",
    "import os\n",
    "\n",
    "# For suppressing tensorflow warnings\n",
    "os.environ['TF_CPP_MIN_LOG_LEVEL'] = '3'\n",
    "import tensorflow as tf\n",
    "tf.compat.v1.logging.set_verbosity(tf.compat.v1.logging.ERROR)"
   ]
  },
  {
   "cell_type": "code",
   "execution_count": null,
   "metadata": {},
   "outputs": [],
   "source": [
    "bwpt = tokenizers.BertWordPieceTokenizer(vocab_file=None,\n",
    "                                         add_special_tokens=True,\n",
    "                                         unk_token='[UNK]',\n",
    "                                         sep_token='[SEP]',\n",
    "                                         cls_token='[CLS]',\n",
    "                                         clean_text=True,\n",
    "                                         handle_chinese_chars=True,\n",
    "                                         strip_accents=True,\n",
    "                                         lowercase=True,\n",
    "                                         wordpieces_prefix='##')"
   ]
  },
  {
   "cell_type": "code",
   "execution_count": null,
   "metadata": {},
   "outputs": [],
   "source": [
    "data = 'path_to_dataset'\n",
    "\n",
    "bwpt.train(files=[data],\n",
    "           vocab_size=30000,\n",
    "           min_frequency=3,\n",
    "           limit_alphabet=1000,\n",
    "           special_tokens=['[PAD]', '[UNK]', '[CLS]', '[MASK]', '[SEP]'])"
   ]
  },
  {
   "cell_type": "code",
   "execution_count": null,
   "metadata": {},
   "outputs": [],
   "source": [
    "bwpt.save('/model/', \"name_for_vocab\")"
   ]
  },
  {
   "cell_type": "code",
   "execution_count": null,
   "metadata": {},
   "outputs": [],
   "source": [
    "!tail -10 /model/name_for_vocab-vocab.txt"
   ]
  },
  {
   "cell_type": "code",
   "execution_count": null,
   "metadata": {},
   "outputs": [],
   "source": [
    "!cd ../src/\n",
    "!ls -l"
   ]
  },
  {
   "cell_type": "code",
   "execution_count": null,
   "metadata": {},
   "outputs": [],
   "source": [
    "!python create_pretraining_data.py \\\n",
    "    --input_file=data \\\n",
    "    --output_file='./tf_records/tf_examples.tfrecord' \\\n",
    "    --vocab_file='./model/name_for_vocab-vocab.txt' \\\n",
    "    --do_lower_case=True \\\n",
    "    --max_seq_length=128 \\\n",
    "    --max_predictions_per_seq=20 \\\n",
    "    --masked_lm_prob=0.15 \\\n",
    "    --random_seed=0 \\\n",
    "    --dupe_factor=5"
   ]
  },
  {
   "cell_type": "code",
   "execution_count": null,
   "metadata": {},
   "outputs": [],
   "source": [
    "!python run_pretraining.py \\\n",
    "    --input_file='tf_records/tf_examples.tfrecord' \\\n",
    "#     --init_checkpoint='./model/model.ckpt' \\\n",
    "    --output_dir='./model/' \\\n",
    "    --do_train=True \\\n",
    "    --do_eval=True \\\n",
    "    --bert_config_file='path_to_pretrained_model_config.json_file' \\\n",
    "    --train_batch_size=64 \\\n",
    "    --max_seq_length=128 \\\n",
    "    --max_predictions_per_seq=20 \\\n",
    "    --num_train_steps=1000000 \\\n",
    "    --num_warmup_steps=5 \\\n",
    "    --learning_rate=2e-5 \\\n",
    "    --use_tpu=True \\\n",
    "    --tpu_name=$TPU_NAME"
   ]
  },
  {
   "cell_type": "code",
   "execution_count": null,
   "metadata": {},
   "outputs": [],
   "source": [
    "!python convert_tf_to_pytorch.py \\\n",
    "    --tf_checkpoint_path='./model/model.ckpt' \\\n",
    "    --bert_config_file='path_to_pretrained_model_config.json_file' \\\n",
    "    --pytorch_dump_path='/pytorch_model/pytorch_model.bin'"
   ]
  }
 ],
 "metadata": {
  "hide_input": false,
  "kernelspec": {
   "display_name": "Python 3",
   "language": "python",
   "name": "python3"
  },
  "language_info": {
   "codemirror_mode": {
    "name": "ipython",
    "version": 3
   },
   "file_extension": ".py",
   "mimetype": "text/x-python",
   "name": "python",
   "nbconvert_exporter": "python",
   "pygments_lexer": "ipython3",
   "version": "3.7.6"
  },
  "latex_envs": {
   "LaTeX_envs_menu_present": true,
   "autoclose": false,
   "autocomplete": true,
   "bibliofile": "biblio.bib",
   "cite_by": "apalike",
   "current_citInitial": 1,
   "eqLabelWithNumbers": true,
   "eqNumInitial": 1,
   "hotkeys": {
    "equation": "Ctrl-E",
    "itemize": "Ctrl-I"
   },
   "labels_anchors": false,
   "latex_user_defs": false,
   "report_style_numbering": false,
   "user_envs_cfg": false
  },
  "toc": {
   "base_numbering": 1,
   "nav_menu": {},
   "number_sections": true,
   "sideBar": true,
   "skip_h1_title": false,
   "title_cell": "Table of Contents",
   "title_sidebar": "Contents",
   "toc_cell": false,
   "toc_position": {},
   "toc_section_display": true,
   "toc_window_display": false
  }
 },
 "nbformat": 4,
 "nbformat_minor": 4
}
